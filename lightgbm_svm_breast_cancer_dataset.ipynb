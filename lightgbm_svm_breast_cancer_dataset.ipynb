{
 "cells": [
  {
   "cell_type": "code",
   "execution_count": 1,
   "id": "14998452",
   "metadata": {},
   "outputs": [],
   "source": [
    "import lightgbm as lgb\n",
    "import numpy as np\n",
    "import matplotlib.pyplot as plt\n",
    "import pandas as pd"
   ]
  },
  {
   "cell_type": "markdown",
   "id": "47cb181f",
   "metadata": {},
   "source": [
    "# Loading Data"
   ]
  },
  {
   "cell_type": "code",
   "execution_count": 2,
   "id": "e6be2a1e",
   "metadata": {},
   "outputs": [],
   "source": [
    "df = pd.read_csv(\"../datasets/breast-cancer-data.csv\",header=None)\n",
    "\n",
    "df.set_axis(['Sample number','Clump Thickness','Uniformity of Cell Size','Uniformity of Cell Shape',\n",
    "              'Marginal Adhesion','Single Epithelial Cell Size','Bare Nuclei','Bland Chromatin','Normal Nucleoli',\n",
    "             'Mitoses','label'],axis=1,inplace=True)\n",
    "# df.shape"
   ]
  },
  {
   "cell_type": "code",
   "execution_count": 3,
   "id": "eb207579",
   "metadata": {},
   "outputs": [],
   "source": [
    "# df['label'].value_counts()"
   ]
  },
  {
   "cell_type": "markdown",
   "id": "4335e14c",
   "metadata": {},
   "source": [
    "# Data preprocessing"
   ]
  },
  {
   "cell_type": "code",
   "execution_count": 4,
   "id": "7f0df9a6",
   "metadata": {},
   "outputs": [],
   "source": [
    "df.loc[df['Bare Nuclei']=='?','Bare Nuclei'] = np.nan"
   ]
  },
  {
   "cell_type": "code",
   "execution_count": 5,
   "id": "d04c93ab",
   "metadata": {},
   "outputs": [],
   "source": [
    "df.dropna(how='any',inplace=True)"
   ]
  },
  {
   "cell_type": "code",
   "execution_count": 6,
   "id": "d7db63de",
   "metadata": {},
   "outputs": [],
   "source": [
    "y = df['label'].values"
   ]
  },
  {
   "cell_type": "code",
   "execution_count": 7,
   "id": "0396997a",
   "metadata": {},
   "outputs": [],
   "source": [
    "from sklearn.preprocessing import LabelEncoder\n",
    "labelEncoder = LabelEncoder()\n",
    "Y = labelEncoder.fit_transform(y)"
   ]
  },
  {
   "cell_type": "code",
   "execution_count": 8,
   "id": "b404173e",
   "metadata": {},
   "outputs": [],
   "source": [
    "X = df.drop([\"Sample number\",\"label\"],axis=1)\n",
    "# X_ = X.to_numpy()"
   ]
  },
  {
   "cell_type": "code",
   "execution_count": 9,
   "id": "6d7091ca",
   "metadata": {},
   "outputs": [],
   "source": [
    "feature_names = np.array(X.columns)"
   ]
  },
  {
   "cell_type": "code",
   "execution_count": 10,
   "id": "e5a55905",
   "metadata": {},
   "outputs": [],
   "source": [
    "from sklearn.preprocessing import StandardScaler\n",
    "scaler = StandardScaler()\n",
    "scaler.fit(X)\n",
    "X = scaler.transform(X)"
   ]
  },
  {
   "cell_type": "markdown",
   "id": "973f30cc",
   "metadata": {},
   "source": [
    "# Train-Test split"
   ]
  },
  {
   "cell_type": "code",
   "execution_count": 11,
   "id": "781e57ed",
   "metadata": {},
   "outputs": [],
   "source": [
    "from sklearn.model_selection import train_test_split\n",
    "X_train,X_test,Y_train,Y_test = train_test_split(X,Y,test_size=0.2, random_state=42)"
   ]
  },
  {
   "cell_type": "markdown",
   "id": "f7e7f837",
   "metadata": {},
   "source": [
    "# Training the Lgbm Model"
   ]
  },
  {
   "cell_type": "code",
   "execution_count": 12,
   "id": "bcf23e59",
   "metadata": {},
   "outputs": [],
   "source": [
    "d_train = lgb.Dataset(X_train,label=Y_train)"
   ]
  },
  {
   "cell_type": "code",
   "execution_count": 13,
   "id": "f79064d1",
   "metadata": {},
   "outputs": [
    {
     "name": "stdout",
     "output_type": "stream",
     "text": [
      "[LightGBM] [Warning] Unknown parameter: max_dept\n",
      "[LightGBM] [Warning] Unknown parameter: max_dept\n",
      "[LightGBM] [Info] Number of positive: 181, number of negative: 365\n",
      "[LightGBM] [Warning] Auto-choosing col-wise multi-threading, the overhead of testing was 0.000180 seconds.\n",
      "You can set `force_col_wise=true` to remove the overhead.\n",
      "[LightGBM] [Info] Total Bins 94\n",
      "[LightGBM] [Info] Number of data points in the train set: 546, number of used features: 9\n",
      "[LightGBM] [Info] [binary:BoostFromScore]: pavg=0.331502 -> initscore=-0.701400\n",
      "[LightGBM] [Info] Start training from score -0.701400\n",
      "[LightGBM] [Warning] No further splits with positive gain, best gain: -inf\n",
      "[LightGBM] [Warning] No further splits with positive gain, best gain: -inf\n"
     ]
    }
   ],
   "source": [
    "lgb_params = {'learning_rate':0.05, 'boosting_type':'gbdt',\n",
    "              'objective':'binary',\n",
    "              'metric':['auc','binary_logloss'],\n",
    "              'num_leaves':10,\n",
    "              'max_dept':100 }\n",
    "lgbm_clf = lgb.train(lgb_params,d_train,50)"
   ]
  },
  {
   "cell_type": "markdown",
   "id": "45bdebdc",
   "metadata": {},
   "source": [
    "# Testing the Lgbm Model"
   ]
  },
  {
   "cell_type": "code",
   "execution_count": 14,
   "id": "c723f1e8",
   "metadata": {},
   "outputs": [],
   "source": [
    "y_pred_lgbm = lgbm_clf.predict(X_test)"
   ]
  },
  {
   "cell_type": "code",
   "execution_count": 15,
   "id": "e23832d9",
   "metadata": {},
   "outputs": [],
   "source": [
    "for i in range(0,len(X_test)):\n",
    "    if y_pred_lgbm[i]>=0.5:\n",
    "        y_pred_lgbm[i]=1\n",
    "    else:\n",
    "        y_pred_lgbm[i]=0"
   ]
  },
  {
   "cell_type": "markdown",
   "id": "62e52d3f",
   "metadata": {},
   "source": [
    "# Training the SVM model"
   ]
  },
  {
   "cell_type": "code",
   "execution_count": 16,
   "id": "84c17418",
   "metadata": {},
   "outputs": [
    {
     "data": {
      "text/plain": [
       "SVC(kernel='linear', random_state=4)"
      ]
     },
     "execution_count": 16,
     "metadata": {},
     "output_type": "execute_result"
    }
   ],
   "source": [
    "from sklearn.svm import SVC\n",
    "svm_clf = SVC(kernel=\"linear\",random_state=4)\n",
    "svm_clf.fit(X_train,Y_train)"
   ]
  },
  {
   "cell_type": "markdown",
   "id": "1fe086ae",
   "metadata": {},
   "source": [
    "# Testing the SVM model"
   ]
  },
  {
   "cell_type": "code",
   "execution_count": 17,
   "id": "dfc3beee",
   "metadata": {},
   "outputs": [],
   "source": [
    "y_pred_svm = svm_clf.decision_function(X_test)"
   ]
  },
  {
   "cell_type": "code",
   "execution_count": 18,
   "id": "96549586",
   "metadata": {},
   "outputs": [],
   "source": [
    "for i in range(0,len(X_test)):\n",
    "    if y_pred_svm[i]>=0.5:\n",
    "        y_pred_svm[i]=1\n",
    "    else:\n",
    "        y_pred_svm[i]=0"
   ]
  },
  {
   "cell_type": "markdown",
   "id": "c2669d65",
   "metadata": {},
   "source": [
    "# Accuracy score"
   ]
  },
  {
   "cell_type": "code",
   "execution_count": 19,
   "id": "fc66dec3",
   "metadata": {},
   "outputs": [
    {
     "name": "stdout",
     "output_type": "stream",
     "text": [
      "Accuracy score of lgbm:  0.948905109489051\n",
      "Accuracy score of svm:  0.9416058394160584\n"
     ]
    }
   ],
   "source": [
    "from sklearn import metrics\n",
    "print(\"Accuracy score of lgbm: \",metrics.accuracy_score(Y_test, y_pred_lgbm))\n",
    "print(\"Accuracy score of svm: \",metrics.accuracy_score(Y_test, y_pred_svm))"
   ]
  },
  {
   "cell_type": "markdown",
   "id": "23e9c084",
   "metadata": {},
   "source": [
    "# AUC score"
   ]
  },
  {
   "cell_type": "code",
   "execution_count": 20,
   "id": "02309a4f",
   "metadata": {},
   "outputs": [
    {
     "name": "stdout",
     "output_type": "stream",
     "text": [
      "AUC scrore for lgbm:  0.9548517520215634\n",
      "AUC scrore for SVM:  0.94920814479638\n"
     ]
    }
   ],
   "source": [
    "print(\"AUC scrore for lgbm: \",metrics.roc_auc_score(y_pred_lgbm,Y_test))\n",
    "print(\"AUC scrore for SVM: \",metrics.roc_auc_score(y_pred_svm,Y_test))"
   ]
  },
  {
   "cell_type": "markdown",
   "id": "f3ffb4eb",
   "metadata": {},
   "source": [
    "# Confusion matrix (Lgbm)"
   ]
  },
  {
   "cell_type": "code",
   "execution_count": 21,
   "id": "9a9e2bdc",
   "metadata": {},
   "outputs": [
    {
     "name": "stdout",
     "output_type": "stream",
     "text": [
      "              precision    recall  f1-score   support\n",
      "\n",
      "           0       0.93      0.99      0.96        79\n",
      "           1       0.98      0.90      0.94        58\n",
      "\n",
      "    accuracy                           0.95       137\n",
      "   macro avg       0.95      0.94      0.95       137\n",
      "weighted avg       0.95      0.95      0.95       137\n",
      "\n"
     ]
    }
   ],
   "source": [
    "import seaborn as sns\n",
    "\n",
    "lgbm_confusionMatrix  = metrics.confusion_matrix(Y_test,y_pred_lgbm)\n",
    "print(metrics.classification_report(Y_test,y_pred_lgbm))"
   ]
  },
  {
   "cell_type": "code",
   "execution_count": 22,
   "id": "58d84eb3",
   "metadata": {},
   "outputs": [
    {
     "data": {
      "image/png": "[encoded data removed]",
      "text/plain": [
       "<Figure size 432x288 with 2 Axes>"
      ]
     },
     "metadata": {
      "needs_background": "light"
     },
     "output_type": "display_data"
    }
   ],
   "source": [
    "sns.heatmap(lgbm_confusionMatrix,annot=True)\n",
    "plt.title('Confusion Matrix(LightGbm)\\n', fontsize = 20) # title with fontsize 20\n",
    "# plt.xlabel('', fontsize = 15) # x-axis label with fontsize 15\n",
    "# plt.ylabel('', fontsize = 15) # y-axis label with fontsize 15\n",
    "plt.show()"
   ]
  },
  {
   "cell_type": "markdown",
   "id": "1aa947c0",
   "metadata": {},
   "source": [
    "# Confusion matrix (SVM)"
   ]
  },
  {
   "cell_type": "code",
   "execution_count": 23,
   "id": "ccf19b51",
   "metadata": {},
   "outputs": [
    {
     "name": "stdout",
     "output_type": "stream",
     "text": [
      "              precision    recall  f1-score   support\n",
      "\n",
      "           0       0.92      0.99      0.95        79\n",
      "           1       0.98      0.88      0.93        58\n",
      "\n",
      "    accuracy                           0.94       137\n",
      "   macro avg       0.95      0.93      0.94       137\n",
      "weighted avg       0.94      0.94      0.94       137\n",
      "\n"
     ]
    }
   ],
   "source": [
    "svm_confusionMatrix  = metrics.confusion_matrix(Y_test,y_pred_svm)\n",
    "print(metrics.classification_report(Y_test,y_pred_svm))"
   ]
  },
  {
   "cell_type": "code",
   "execution_count": 24,
   "id": "e242d944",
   "metadata": {},
   "outputs": [
    {
     "data": {
      "image/png": "[encoded data removed]",
      "text/plain": [
       "<Figure size 432x288 with 2 Axes>"
      ]
     },
     "metadata": {
      "needs_background": "light"
     },
     "output_type": "display_data"
    }
   ],
   "source": [
    "sns.heatmap(svm_confusionMatrix,annot=True)\n",
    "plt.title('Confusion Matrix (SVM)\\n', fontsize = 20)\n",
    "plt.show()"
   ]
  },
  {
   "cell_type": "markdown",
   "id": "d1500067",
   "metadata": {},
   "source": [
    "# ROC Curve"
   ]
  },
  {
   "cell_type": "code",
   "execution_count": 25,
   "id": "ec2d72fe",
   "metadata": {},
   "outputs": [
    {
     "data": {
      "image/png": "[encoded data removed]",
      "text/plain": [
       "<Figure size 400x400 with 1 Axes>"
      ]
     },
     "metadata": {
      "needs_background": "light"
     },
     "output_type": "display_data"
    }
   ],
   "source": [
    "from sklearn.metrics import roc_curve, auc\n",
    "\n",
    "lgbm_fpr,lgbm_tpr, threshold = roc_curve(Y_test, y_pred_lgbm)\n",
    "auc_lgbm = auc(lgbm_fpr, lgbm_tpr)\n",
    "\n",
    "svm_fpr,svm_tpr, threshold = roc_curve(Y_test, y_pred_svm)\n",
    "auc_svm = auc(svm_fpr, svm_tpr)\n",
    "\n",
    "plt.figure(figsize=(4, 4), dpi=100)\n",
    "\n",
    "plt.plot(lgbm_fpr, lgbm_tpr, marker='.', label='Lgbm (auc = %0.3f)' % auc_lgbm)\n",
    "plt.plot(svm_fpr, svm_tpr, marker='.', label='svm (auc = %0.3f)' % auc_svm)\n",
    "\n",
    "plt.xlabel('False Positive Rate')\n",
    "plt.ylabel('True Positive Rate')\n",
    "\n",
    "plt.legend()\n",
    "\n",
    "plt.show()"
   ]
  }
 ],
 "metadata": {
  "kernelspec": {
   "display_name": "Python 3 (ipykernel)",
   "language": "python",
   "name": "python3"
  },
  "language_info": {
   "codemirror_mode": {
    "name": "ipython",
    "version": 3
   },
   "file_extension": ".py",
   "mimetype": "text/x-python",
   "name": "python",
   "nbconvert_exporter": "python",
   "pygments_lexer": "ipython3",
   "version": "3.9.7"
  }
 },
 "nbformat": 4,
 "nbformat_minor": 5
}
