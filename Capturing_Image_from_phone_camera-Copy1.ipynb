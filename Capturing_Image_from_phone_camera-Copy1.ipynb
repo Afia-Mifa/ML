{
 "cells": [
  {
   "cell_type": "code",
   "execution_count": 1,
   "id": "93c58c59",
   "metadata": {},
   "outputs": [],
   "source": [
    "import cv2 ,time\n",
    "import numpy as np"
   ]
  },
  {
   "cell_type": "code",
   "execution_count": 2,
   "id": "b33b1538",
   "metadata": {},
   "outputs": [],
   "source": [
    "def rescale_frame(frame,scale):    # works for image, video, live video\n",
    "    width = int(frame.shape[1] * scale)\n",
    "    height = int(frame.shape[0] * scale)\n",
    "    dimensions = (width-100, height)\n",
    "    return cv2.resize(frame, dimensions, interpolation=cv2.INTER_AREA)"
   ]
  },
  {
   "cell_type": "code",
   "execution_count": 3,
   "id": "23364805",
   "metadata": {},
   "outputs": [],
   "source": [
    "face_cascade=cv2.CascadeClassifier(\"cascades/haarcascade_frontalface_alt2.xml\")"
   ]
  },
  {
   "cell_type": "code",
   "execution_count": 4,
   "id": "f0dd38f8",
   "metadata": {},
   "outputs": [],
   "source": [
    "from tensorflow.keras.models import load_model"
   ]
  },
  {
   "cell_type": "code",
   "execution_count": 5,
   "id": "d82cab9a",
   "metadata": {},
   "outputs": [],
   "source": [
    "model = load_model('model/face_mask_detection_model.h5')"
   ]
  },
  {
   "cell_type": "code",
   "execution_count": 6,
   "id": "49ff3f2e",
   "metadata": {},
   "outputs": [],
   "source": [
    "IMG_SIZE = 227"
   ]
  },
  {
   "cell_type": "code",
   "execution_count": 7,
   "id": "7033980d",
   "metadata": {},
   "outputs": [],
   "source": [
    "def norm_predictions(predictions):\n",
    "    norm_pred = []\n",
    "    pred = []\n",
    "    \n",
    "    for i in range(len(predictions)):\n",
    "        norm_pred.append(np.argmax(predictions[i]))\n",
    "        \n",
    "    if norm_pred==0:\n",
    "        pred.append('Mask')\n",
    "    else:\n",
    "        pred.append('Non Mask')\n",
    "    \n",
    "    return norm_pred\n",
    "        "
   ]
  },
  {
   "cell_type": "code",
   "execution_count": 8,
   "id": "fe233811",
   "metadata": {},
   "outputs": [],
   "source": [
    "video=cv2.VideoCapture(0)\n",
    "address = 'http://192.168.0.4:8080//video'\n",
    "video.open(address)\n",
    "\n",
    "count = 0\n",
    "\n",
    "while True:\n",
    "    check,frame=video.read()\n",
    "    frame_resized = cv2.resize(frame,(IMG_SIZE,IMG_SIZE))\n",
    "    frame_rescaled = rescale_frame(frame,0.5)\n",
    "    gray_frame = cv2.cvtColor(frame_rescaled,cv2.COLOR_BGR2GRAY)\n",
    "    faces = face_cascade.detectMultiScale(gray_frame,scaleFactor=1.5,minNeighbors=5)\n",
    "    \n",
    "    frame_exp = np.expand_dims(frame_resized,axis=0)\n",
    "    \n",
    "    pred = model.predict(x=frame_exp)\n",
    "    pred = np.argmax(pred)\n",
    "    \n",
    "    if pred==0:\n",
    "        identify = 'Mask'\n",
    "    else:\n",
    "        identify = 'Non Mask'\n",
    "        \n",
    "    for x,y,w,h in faces:\n",
    "        roi_gray = gray_frame[y:y+h,x:x+w]\n",
    "        stroke = 2\n",
    "        end_cord_x = x+w #height\n",
    "        end_cord_y = y+h #width\n",
    "        \n",
    "        if pred==0:\n",
    "            color=(0,255,0)#BGR\n",
    "        else:\n",
    "            color=(0,0,255)\n",
    "            \n",
    "        cv2.rectangle(frame_rescaled,(x,y),(end_cord_x,end_cord_y),color,stroke)\n",
    "        \n",
    "        font = cv2.FONT_HERSHEY_SIMPLEX\n",
    "        text = identify\n",
    "        stroke = 2\n",
    "        \n",
    "        cv2.putText(frame_rescaled,text,(x+120,y-10),font,1.5,color,stroke)\n",
    "    \n",
    "\n",
    "    cv2.imshow('webcam',frame_rescaled)\n",
    "    key=cv2.waitKey(1)\n",
    "\n",
    "    if key==ord('w'):\n",
    "        break   \n",
    "    \n",
    "\n",
    "video.release()\n",
    "cv2.destroyWindow('webcam')"
   ]
  },
  {
   "cell_type": "code",
   "execution_count": null,
   "id": "ba980339",
   "metadata": {},
   "outputs": [],
   "source": []
  },
  {
   "cell_type": "code",
   "execution_count": null,
   "id": "0e204ceb",
   "metadata": {},
   "outputs": [],
   "source": []
  }
 ],
 "metadata": {
  "kernelspec": {
   "display_name": "Python 3",
   "language": "python",
   "name": "python3"
  },
  "language_info": {
   "codemirror_mode": {
    "name": "ipython",
    "version": 3
   },
   "file_extension": ".py",
   "mimetype": "text/x-python",
   "name": "python",
   "nbconvert_exporter": "python",
   "pygments_lexer": "ipython3",
   "version": "3.8.8"
  }
 },
 "nbformat": 4,
 "nbformat_minor": 5
}
